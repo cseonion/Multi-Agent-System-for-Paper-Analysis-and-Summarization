{
 "cells": [
  {
   "cell_type": "markdown",
   "metadata": {},
   "source": [
    "# set path/directory\n",
    "- support for single file. Input file path.\n",
    "    - ex. `path = \"test/case1/deepseek r1.pdf\"`\n",
    "- support for multiple files. Input folder directory.\n",
    "    - ex. `path = \"test/case2/\"`"
   ]
  },
  {
   "cell_type": "code",
   "execution_count": null,
   "metadata": {},
   "outputs": [],
   "source": [
    "path = [\"test/case1/deepseek r1.pdf\"]"
   ]
  },
  {
   "cell_type": "markdown",
   "metadata": {},
   "source": [
    "# run system\n",
    "- `run()` returns 3 outputs\n",
    "    1. final state\n",
    "    2. main graph visualization\n",
    "    3. sub graph visualization\n"
   ]
  },
  {
   "cell_type": "code",
   "execution_count": null,
   "metadata": {},
   "outputs": [],
   "source": [
    "from main import run\n",
    "\n",
    "result, main_vis, sub_vis = run(path, print_log=True)"
   ]
  },
  {
   "cell_type": "markdown",
   "metadata": {},
   "source": [
    "# results after execution\n",
    "\n",
    "All results will be stored in `cache` folder."
   ]
  }
 ],
 "metadata": {
  "kernelspec": {
   "display_name": "langgraph",
   "language": "python",
   "name": "python3"
  },
  "language_info": {
   "codemirror_mode": {
    "name": "ipython",
    "version": 3
   },
   "file_extension": ".py",
   "mimetype": "text/x-python",
   "name": "python",
   "nbconvert_exporter": "python",
   "pygments_lexer": "ipython3",
   "version": "3.11.13"
  }
 },
 "nbformat": 4,
 "nbformat_minor": 2
}
